{
 "cells": [
  {
   "cell_type": "code",
   "execution_count": 1,
   "id": "e452740a",
   "metadata": {},
   "outputs": [],
   "source": [
    "import tkinter as tk\n",
    "from tkinter import filedialog\n",
    "\n"
   ]
  },
  {
   "cell_type": "code",
   "execution_count": 2,
   "id": "3c5f9684",
   "metadata": {},
   "outputs": [],
   "source": [
    "def remove_spaces(input_file, output_file):\n",
    "    with open(input_file, 'r') as infile, open(output_file, 'w') as outfile:\n",
    "        for line in infile:\n",
    "            # Remove spaces between lines\n",
    "            cleaned_line = line.strip()\n",
    "            if cleaned_line:\n",
    "                outfile.write(cleaned_line + '\\n')\n",
    "\n"
   ]
  },
  {
   "cell_type": "code",
   "execution_count": 3,
   "id": "a85f6af0",
   "metadata": {},
   "outputs": [],
   "source": [
    "def process_large_data():\n",
    "    input_path = filedialog.askopenfilename(title=\"Select input file\", filetypes=[(\"Text files\", \"*.txt\")])\n",
    "\n",
    "    if not input_path:\n",
    "        return  # User canceled file selection\n",
    "\n",
    "    output_path = filedialog.asksaveasfilename(title=\"Save output as\", filetypes=[(\"Text files\", \"*.txt\")])\n",
    "\n",
    "    if not output_path:\n",
    "        return  # User canceled save as\n",
    "\n",
    "    remove_spaces(input_path, output_path)\n",
    "    result_label.config(text=\"Spaces removed and saved successfully!\")\n",
    "\n"
   ]
  },
  {
   "cell_type": "code",
   "execution_count": 4,
   "id": "8499dce1",
   "metadata": {},
   "outputs": [
    {
     "data": {
      "text/plain": [
       "''"
      ]
     },
     "execution_count": 4,
     "metadata": {},
     "output_type": "execute_result"
    }
   ],
   "source": [
    "# Create GUI\n",
    "app = tk.Tk()\n",
    "app.title(\"Remove Spaces from Lines\")\n",
    "\n"
   ]
  },
  {
   "cell_type": "code",
   "execution_count": 5,
   "id": "cdeb5193",
   "metadata": {},
   "outputs": [],
   "source": [
    "# Add a button to trigger the process\n",
    "process_button = tk.Button(app, text=\"Process Large Data\", command=process_large_data)\n",
    "process_button.pack(pady=10)\n",
    "\n"
   ]
  },
  {
   "cell_type": "code",
   "execution_count": 6,
   "id": "2483f79e",
   "metadata": {},
   "outputs": [],
   "source": [
    "# Display label for result message\n",
    "result_label = tk.Label(app, text=\"\")\n",
    "result_label.pack(pady=5)\n",
    "\n"
   ]
  },
  {
   "cell_type": "code",
   "execution_count": null,
   "id": "777e0b11",
   "metadata": {},
   "outputs": [],
   "source": [
    "# Start the GUI event loop\n",
    "app.mainloop()"
   ]
  },
  {
   "cell_type": "code",
   "execution_count": null,
   "id": "39a711a8",
   "metadata": {},
   "outputs": [],
   "source": []
  }
 ],
 "metadata": {
  "kernelspec": {
   "display_name": "Python 3 (ipykernel)",
   "language": "python",
   "name": "python3"
  },
  "language_info": {
   "codemirror_mode": {
    "name": "ipython",
    "version": 3
   },
   "file_extension": ".py",
   "mimetype": "text/x-python",
   "name": "python",
   "nbconvert_exporter": "python",
   "pygments_lexer": "ipython3",
   "version": "3.9.13"
  }
 },
 "nbformat": 4,
 "nbformat_minor": 5
}
